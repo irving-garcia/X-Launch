{
 "cells": [
  {
   "cell_type": "code",
   "execution_count": 1,
   "metadata": {},
   "outputs": [],
   "source": [
    "def CalculateRemainingWater(astronaunts, waterQuantity, daysLeft):\n",
    "    dailyUsage = astronaunts * 11\n",
    "    totalUsage = dailyUsage * daysLeft\n",
    "    waterLeft = waterQuantity - totalUsage\n",
    "\n",
    "    if(waterLeft < 0):\n",
    "        raise RuntimeError(f\"No hay suficiente agua para {astronaunts} personas despues de {daysLeft} dias!\")\n",
    "    return \"Agua suficiente!\"\n"
   ]
  },
  {
   "cell_type": "code",
   "execution_count": 3,
   "metadata": {},
   "outputs": [
    {
     "name": "stdout",
     "output_type": "stream",
     "text": [
      "No hay suficiente agua para 5 personas despues de 2 dias!\n"
     ]
    }
   ],
   "source": [
    "try:\n",
    "    CalculateRemainingWater(5, 100, 2)\n",
    "except RuntimeError as error:\n",
    "    print(error)"
   ]
  },
  {
   "cell_type": "code",
   "execution_count": 4,
   "metadata": {},
   "outputs": [
    {
     "name": "stdout",
     "output_type": "stream",
     "text": [
      "Todas las entradas deben ser numeros enteros!\n"
     ]
    }
   ],
   "source": [
    "def CalculateRemainingWaterValidate(astronaunts, waterQuantity, daysLeft):\n",
    "    try:\n",
    "        dailyUsage = int(astronaunts) * 11\n",
    "        totalUsage = dailyUsage * int(daysLeft)\n",
    "        waterLeft = int(waterQuantity) - totalUsage\n",
    "    except ValueError as error:\n",
    "        raise RuntimeError(\"Todas las entradas deben ser numeros enteros!\")\n",
    "\n",
    "    if(waterLeft < 0):\n",
    "        raise RuntimeError(f\"No hay suficiente agua para {astronaunts} personas despues de {daysLeft} dias!\")\n",
    "    return \"Agua suficiente!\"\n",
    "\n",
    "\n",
    "try:\n",
    "    CalculateRemainingWaterValidate(5, \"asfr\", 2)\n",
    "except RuntimeError as error:\n",
    "    print(error)"
   ]
  }
 ],
 "metadata": {
  "interpreter": {
   "hash": "73e03da126b73bfff3642ec5261d56fa25c444ea595de51041687efaa60dda41"
  },
  "kernelspec": {
   "display_name": "Python 3.7.6 ('base')",
   "language": "python",
   "name": "python3"
  },
  "language_info": {
   "codemirror_mode": {
    "name": "ipython",
    "version": 3
   },
   "file_extension": ".py",
   "mimetype": "text/x-python",
   "name": "python",
   "nbconvert_exporter": "python",
   "pygments_lexer": "ipython3",
   "version": "3.7.6"
  },
  "orig_nbformat": 4
 },
 "nbformat": 4,
 "nbformat_minor": 2
}
