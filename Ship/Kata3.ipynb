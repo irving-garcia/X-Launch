{
 "cells": [
  {
   "cell_type": "code",
   "execution_count": 4,
   "metadata": {},
   "outputs": [
    {
     "name": "stdout",
     "output_type": "stream",
     "text": [
      "Se acerca un asteroide a velocidad rapida!\n"
     ]
    }
   ],
   "source": [
    "asteroidVelocity = 49\n",
    "if(asteroidVelocity > 25):\n",
    "    print(\"Se acerca un asteroide a gran rapida!\")\n",
    "else:\n",
    "    print(\"No hay peligro!\")"
   ]
  },
  {
   "cell_type": "code",
   "execution_count": 7,
   "metadata": {},
   "outputs": [
    {
     "name": "stdout",
     "output_type": "stream",
     "text": [
      "Cielo despejado!\n"
     ]
    }
   ],
   "source": [
    "asteroidVelocity = 19\n",
    "if(asteroidVelocity >= 20):\n",
    "    print(\"Se observa una luz en el cielo!\")\n",
    "else:\n",
    "    print(\"Cielo despejado!\")"
   ]
  },
  {
   "cell_type": "code",
   "execution_count": 27,
   "metadata": {},
   "outputs": [
    {
     "name": "stdout",
     "output_type": "stream",
     "text": [
      "Peligro! Se acerca un asteroide!!\n"
     ]
    }
   ],
   "source": [
    "asteroidVelocity = 26\n",
    "asteroidSize = 45\n",
    "\n",
    "if(asteroidVelocity > 25):\n",
    "    print(\"Peligro! Se acerca un asteroide!!\")\n",
    "elif (asteroidVelocity > 25 and asteroidSize > 25 and asteroidSize < 1000):\n",
    "    print(\"Peligro! Se acerca un asteroide!!!\")\n",
    "elif(asteroidVelocity >= 20):\n",
    "    print(\"Se observa una luz en el cielo!\")\n",
    "else:\n",
    "    print(\"Cielo despejado!\")"
   ]
  }
 ],
 "metadata": {
  "interpreter": {
   "hash": "d972d58e64fe6fc7a89d1fd0328135126b48d8cc27a72318b3ac8e792ba217fa"
  },
  "kernelspec": {
   "display_name": "Python 3.7.6 ('env': venv)",
   "language": "python",
   "name": "python3"
  },
  "language_info": {
   "codemirror_mode": {
    "name": "ipython",
    "version": 3
   },
   "file_extension": ".py",
   "mimetype": "text/x-python",
   "name": "python",
   "nbconvert_exporter": "python",
   "pygments_lexer": "ipython3",
   "version": "3.7.6"
  },
  "orig_nbformat": 4
 },
 "nbformat": 4,
 "nbformat_minor": 2
}
