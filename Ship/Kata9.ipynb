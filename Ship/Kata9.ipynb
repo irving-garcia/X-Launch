{
 "cells": [
  {
   "cell_type": "code",
   "execution_count": 1,
   "metadata": {},
   "outputs": [],
   "source": [
    "def AverageReport(tank1, tank2, tank3):\n",
    "    average = (tank1 + tank2 + tank3) / 3\n",
    "    return f\"El promedio de los tanques es: {average}\""
   ]
  },
  {
   "cell_type": "code",
   "execution_count": 2,
   "metadata": {},
   "outputs": [
    {
     "name": "stdout",
     "output_type": "stream",
     "text": [
      "El promedio de los tanques es: 31.333333333333332\n"
     ]
    }
   ],
   "source": [
    "print(AverageReport(16, 23, 55))"
   ]
  },
  {
   "cell_type": "code",
   "execution_count": 3,
   "metadata": {},
   "outputs": [
    {
     "name": "stdout",
     "output_type": "stream",
     "text": [
      "Fuel Report\n",
      "    Average: 52.333333333333336\n",
      "    Tank1: 34\n",
      "    Tank2: 56\n",
      "    Tank2: 67\n",
      "    \n"
     ]
    }
   ],
   "source": [
    "def Average(tank1, tank2, tank3):\n",
    "    return (tank1 + tank2 + tank3) / 3\n",
    "\n",
    "def CreateReport(tank1, tank2, tank3):\n",
    "    return f\"\"\"Fuel Report\n",
    "    Average: {Average(tank1, tank2, tank3=tank3)}\n",
    "    Tank1: {tank1}\n",
    "    Tank2: {tank2}\n",
    "    Tank2: {tank3}\n",
    "    \"\"\"\n",
    "\n",
    "print(CreateReport(34, 56, 67))"
   ]
  },
  {
   "cell_type": "code",
   "execution_count": 5,
   "metadata": {},
   "outputs": [
    {
     "name": "stdout",
     "output_type": "stream",
     "text": [
      "\n",
      "    Departure time: 8.3\n",
      "    Destination: Tj\n",
      "    Flight time: 3\n",
      "    Total fuel: 44\n",
      "    \n"
     ]
    }
   ],
   "source": [
    "def MissionReport(startTime, flightTime, detination, extTank, intTank):\n",
    "    return f\"\"\"\n",
    "    Departure time: {startTime}\n",
    "    Destination: {detination}\n",
    "    Flight time: {flightTime}\n",
    "    Total fuel: {extTank + intTank}\n",
    "    \"\"\"\n",
    "\n",
    "print(MissionReport(8.30, 3, \"Tj\", 34, 10))"
   ]
  },
  {
   "cell_type": "code",
   "execution_count": 6,
   "metadata": {},
   "outputs": [
    {
     "name": "stdout",
     "output_type": "stream",
     "text": [
      "\n",
      "    Destination: Tj\n",
      "    Flight time: 46\n",
      "    Total fuel: 73\n",
      "    \n"
     ]
    }
   ],
   "source": [
    "def MissionReport2(destination, *flightTime, **fuelTanks):\n",
    "    return f\"\"\"\n",
    "    Destination: {destination}\n",
    "    Flight time: {sum(flightTime)}\n",
    "    Total fuel: {sum(fuelTanks.values())}\n",
    "    \"\"\"\n",
    "\n",
    "print(MissionReport2(\"Tj\", 12, 34, tank1=23, tank2=45,tank3=5))"
   ]
  }
 ],
 "metadata": {
  "interpreter": {
   "hash": "73e03da126b73bfff3642ec5261d56fa25c444ea595de51041687efaa60dda41"
  },
  "kernelspec": {
   "display_name": "Python 3.7.6 ('base')",
   "language": "python",
   "name": "python3"
  },
  "language_info": {
   "codemirror_mode": {
    "name": "ipython",
    "version": 3
   },
   "file_extension": ".py",
   "mimetype": "text/x-python",
   "name": "python",
   "nbconvert_exporter": "python",
   "pygments_lexer": "ipython3",
   "version": "3.7.6"
  },
  "orig_nbformat": 4
 },
 "nbformat": 4,
 "nbformat_minor": 2
}
