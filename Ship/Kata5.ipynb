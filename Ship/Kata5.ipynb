{
 "cells": [
  {
   "cell_type": "code",
   "execution_count": 3,
   "metadata": {},
   "outputs": [
    {
     "name": "stdout",
     "output_type": "stream",
     "text": [
      "628949.33\n",
      "390577.53393\n"
     ]
    }
   ],
   "source": [
    "earthDistance = 149597.870\n",
    "jupDistance = 778547.200\n",
    "\n",
    "distance = jupDistance - earthDistance\n",
    "distanceMilles = (jupDistance - earthDistance) * 0.621\n",
    "print(distance)\n",
    "print(distanceMilles)"
   ]
  },
  {
   "cell_type": "code",
   "execution_count": 12,
   "metadata": {},
   "outputs": [
    {
     "name": "stdout",
     "output_type": "stream",
     "text": [
      "Comparar La Distancia Entre Dos Planetas\n",
      "La distancia entre los dos planetas es de: 390609000.0\n"
     ]
    }
   ],
   "source": [
    "print(\"Comparar la distancia entre dos planetas\".title())\n",
    "distance1 = input(\"Ingresa la distancia (en KM) del primer planeta:\")\n",
    "distance2 = input(\"Ingresa la distancia (en KM) del segundo planeta:\")\n",
    "\n",
    "distanceInt1 = int(distance1)\n",
    "distanceInt2 = int(distance2)\n",
    "\n",
    "result = abs((distanceInt2 - distanceInt1) * 0.621)\n",
    "resultTxt = f\"La distancia entre los dos planetas es de: {result}\"\n",
    "print(resultTxt)"
   ]
  }
 ],
 "metadata": {
  "interpreter": {
   "hash": "73e03da126b73bfff3642ec5261d56fa25c444ea595de51041687efaa60dda41"
  },
  "kernelspec": {
   "display_name": "Python 3.7.6 ('base')",
   "language": "python",
   "name": "python3"
  },
  "language_info": {
   "codemirror_mode": {
    "name": "ipython",
    "version": 3
   },
   "file_extension": ".py",
   "mimetype": "text/x-python",
   "name": "python",
   "nbconvert_exporter": "python",
   "pygments_lexer": "ipython3",
   "version": "3.7.6"
  },
  "orig_nbformat": 4
 },
 "nbformat": 4,
 "nbformat_minor": 2
}
